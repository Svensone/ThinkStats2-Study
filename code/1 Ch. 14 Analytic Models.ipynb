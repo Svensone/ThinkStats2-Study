{
 "cells": [
  {
   "cell_type": "code",
   "execution_count": 1,
   "metadata": {},
   "outputs": [],
   "source": [
    "# set up\n",
    "\n",
    "from __future__ import print_function, division\n",
    "\n",
    "%matplotlib inline\n",
    "\n",
    "import numpy as np\n",
    "import pandas as pd\n",
    "\n",
    "import random\n",
    "\n",
    "import thinkstats2\n",
    "import thinkplot"
   ]
  },
  {
   "cell_type": "markdown",
   "metadata": {},
   "source": [
    "## Analytic methods\n",
    "\n",
    "if we know parameters of sampling distribution, CI and p-values calculate analytically (since faster)"
   ]
  },
  {
   "cell_type": "code",
   "execution_count": 5,
   "metadata": {},
   "outputs": [
    {
     "name": "stdout",
     "output_type": "stream",
     "text": [
      "85.88786593262132 94.11213406737868\n"
     ]
    }
   ],
   "source": [
    "import scipy.stats\n",
    "\n",
    "def EvalNormalCdfInverse(p, mu=0, sigma=1):\n",
    "    return scipy.stats.norm.ppf(p, loc=mu, scale=sigma)\n",
    "\n",
    "# CI for estimated mean (90 kg gorilla weight)\n",
    "\n",
    "CiLow = EvalNormalCdfInverse(0.05, mu=90, sigma=2.5)\n",
    "\n",
    "CiHigh = EvalNormalCdfInverse(0.95, mu=90, sigma=2.5)\n",
    "print(CiLow, CiHigh)"
   ]
  },
  {
   "cell_type": "markdown",
   "metadata": {},
   "source": [
    "# 14.2 Normal Distribution\n",
    "\n",
    "'closed' in linear transformation and in addition\n",
    "\n",
    "x ~ N(mu, sigma**2)"
   ]
  },
  {
   "cell_type": "code",
   "execution_count": 6,
   "metadata": {},
   "outputs": [
    {
     "data": {
      "text/plain": [
       "Normal(90, 56.25)"
      ]
     },
     "execution_count": 6,
     "metadata": {},
     "output_type": "execute_result"
    }
   ],
   "source": [
    "from normal import Normal\n",
    "\n",
    "#distribution with mean 90kg and variance  7.5kg\n",
    "dist = Normal(90, 7.5**2)\n",
    "dist\n"
   ]
  },
  {
   "cell_type": "code",
   "execution_count": 7,
   "metadata": {},
   "outputs": [
    {
     "data": {
      "text/plain": [
       "2.5"
      ]
     },
     "execution_count": 7,
     "metadata": {},
     "output_type": "execute_result"
    }
   ],
   "source": [
    "dist_xbar = dist.Sum(9) /9\n",
    "dist_xbar.sigma"
   ]
  },
  {
   "cell_type": "code",
   "execution_count": 8,
   "metadata": {},
   "outputs": [
    {
     "data": {
      "text/plain": [
       "(85.88786593262132, 94.11213406737868)"
      ]
     },
     "execution_count": 8,
     "metadata": {},
     "output_type": "execute_result"
    }
   ],
   "source": [
    "# Confidence Interval \n",
    "\n",
    "dist_xbar.Percentile(5), dist_xbar.Percentile(95)"
   ]
  },
  {
   "cell_type": "markdown",
   "metadata": {},
   "source": [
    "## Central Limit Theorem\n",
    "\n",
    "add up indep. vairates from a distribution (same) with finite mean and variance, the sum converges on a normal distribution\n"
   ]
  },
  {
   "cell_type": "markdown",
   "metadata": {},
   "source": [
    "### 14.5 Testing the CLT"
   ]
  },
  {
   "cell_type": "code",
   "execution_count": 15,
   "metadata": {},
   "outputs": [],
   "source": [
    "def MakeExpoSamples(beta=2.0, iters=1000):\n",
    "    \"\"\"Generates samples from an exponential distribution.\n",
    "\n",
    "    beta: parameter\n",
    "    iters: number of samples to generate for each size\n",
    "\n",
    "    returns: list of samples\n",
    "    \"\"\"\n",
    "    samples = []\n",
    "    for n in [1, 10, 100]:\n",
    "        sample = [np.sum(np.random.exponential(beta, n))\n",
    "                 for _ in range(iters)]\n",
    "        samples.append((n, sample))\n",
    "    return samples\n"
   ]
  },
  {
   "cell_type": "code",
   "execution_count": 17,
   "metadata": {},
   "outputs": [],
   "source": [
    "\n",
    "#This function generates normal probability\n",
    "#plots for samples with various sizes.\n",
    "\n",
    "def NormalPlotSamples(samples, plot=1, ylabel=''):\n",
    "    \"\"\"Makes normal probability plots for samples.\n",
    "\n",
    "    samples: list of samples\n",
    "    label: string\n",
    "    \"\"\"\n",
    "    for n, sample in samples:\n",
    "        thinkplot.SubPlot(plot)\n",
    "        thinkstats2.NormalProbabilityPlot(sample)\n",
    "\n",
    "        thinkplot.Config(title='n=%d' % n,\n",
    "                         legend=False,\n",
    "                         xticks=[],\n",
    "                         yticks=[],\n",
    "                         xlabel='random normal variate',\n",
    "                         ylabel=ylabel)\n",
    "        plot += 1"
   ]
  },
  {
   "cell_type": "code",
   "execution_count": 18,
   "metadata": {},
   "outputs": [
    {
     "name": "stderr",
     "output_type": "stream",
     "text": [
      "C:\\Users\\ansve\\Coding\\Think Stats 2\\code\\thinkplot.py:182: MatplotlibDeprecationWarning: Adding an axes using the same arguments as a previous axes currently reuses the earlier instance.  In a future version, a new instance will always be created and returned.  Meanwhile, this warning can be suppressed, and the future behavior ensured, by passing a unique label to each axes instance.\n",
      "  return plt.subplot(rows, cols, plot_number, **options)\n"
     ]
    },
    {
     "data": {
      "image/png": "[encoded data removed]",
      "text/plain": [
       "<Figure size 1152x720 with 3 Axes>"
      ]
     },
     "metadata": {},
     "output_type": "display_data"
    }
   ],
   "source": [
    "thinkplot.PrePlot(num=3, rows=2, cols=3)\n",
    "samples = MakeExpoSamples()\n",
    "NormalPlotSamples(samples, plot=1,\n",
    "                  ylabel='sum of expo values')"
   ]
  },
  {
   "cell_type": "code",
   "execution_count": 21,
   "metadata": {},
   "outputs": [],
   "source": [
    "### lognormal distr. higher variance -> requires larger sample\n",
    "\n",
    "def MakeLognormalSamples(mu=1.0, sigma=1.0, iters=1000):\n",
    "    \"\"\"Generates samples from a lognormal distribution.\n",
    "\n",
    "    mu: parmeter\n",
    "    sigma: parameter\n",
    "    iters: number of samples to generate for each size\n",
    "\n",
    "    returns: list of samples\n",
    "    \"\"\"\n",
    "    samples = []\n",
    "    \n",
    "    for n in [1, 10, 100]:\n",
    "        sample = [np.sum(np.random.lognormal(mu, sigma, n)) \n",
    "                 for _ in range(1000)]\n",
    "        samples.append((n, sample))\n",
    "    return samples"
   ]
  },
  {
   "cell_type": "code",
   "execution_count": 22,
   "metadata": {},
   "outputs": [
    {
     "name": "stderr",
     "output_type": "stream",
     "text": [
      "C:\\Users\\ansve\\Coding\\Think Stats 2\\code\\thinkplot.py:182: MatplotlibDeprecationWarning: Adding an axes using the same arguments as a previous axes currently reuses the earlier instance.  In a future version, a new instance will always be created and returned.  Meanwhile, this warning can be suppressed, and the future behavior ensured, by passing a unique label to each axes instance.\n",
      "  return plt.subplot(rows, cols, plot_number, **options)\n"
     ]
    },
    {
     "data": {
      "image/png": "[encoded data removed]",
      "text/plain": [
       "<Figure size 1152x720 with 3 Axes>"
      ]
     },
     "metadata": {},
     "output_type": "display_data"
    }
   ],
   "source": [
    "thinkplot.PrePlot(num=3, rows=2, cols=3)\n",
    "samples = MakeLognormalSamples()\n",
    "NormalPlotSamples(samples, ylabel='sum of lognormal values')"
   ]
  },
  {
   "cell_type": "markdown",
   "metadata": {},
   "source": [
    "## Pareto Distr.\n",
    "\n",
    "not possible since no finite mean / variance - doesn't converge to normal\n",
    "\n",
    "## Correlated Expo. Distribution\n",
    "\n",
    "even though against the CLT assumptions, in practice only slight problem without relevance"
   ]
  },
  {
   "cell_type": "markdown",
   "metadata": {},
   "source": [
    "### 14.6 Applying the CLT\n",
    "\n",
    "### Difference in Means\n",
    "\n",
    "pregnancy length not normal \n",
    "\n",
    "but mean ( or sum ) of a few thousand samples is very close to normal"
   ]
  },
  {
   "cell_type": "code",
   "execution_count": 24,
   "metadata": {},
   "outputs": [
    {
     "data": {
      "text/plain": [
       "0.07803726677754952"
      ]
     },
     "execution_count": 24,
     "metadata": {},
     "output_type": "execute_result"
    }
   ],
   "source": [
    "import first\n",
    "\n",
    "live, firsts, others = first.MakeFrames()\n",
    "delta = firsts.prglngth.mean() - others.prglngth.mean()\n",
    "# difference in mean length of pregnancy\n",
    "delta"
   ]
  },
  {
   "cell_type": "code",
   "execution_count": 27,
   "metadata": {},
   "outputs": [],
   "source": [
    "def SamplingDistMean(data, n):\n",
    "    \"\"\"Computes the sampling distribution of the mean.\n",
    "\n",
    "    data: sequence of values representing the population\n",
    "    n: sample size\n",
    "\n",
    "    returns: Normal object\n",
    "    \"\"\"\n",
    "    mean, var = data.mean(), data.var()\n",
    "    dist = Normal(mean, var)\n",
    "    return dist.Sum(n) / n"
   ]
  },
  {
   "cell_type": "code",
   "execution_count": 30,
   "metadata": {},
   "outputs": [
    {
     "data": {
      "text/plain": [
       "Normal(90, 56.25)"
      ]
     },
     "execution_count": 30,
     "metadata": {},
     "output_type": "execute_result"
    }
   ],
   "source": [
    "dist1 = SamplingDistMean(live.prglngth, len(firsts))\n",
    "dist2 = SamplingDistMean(live.prglngth, len(others))\n",
    "\n",
    "dist_diff = dist1 - dist2\n",
    "dist"
   ]
  },
  {
   "cell_type": "code",
   "execution_count": null,
   "metadata": {},
   "outputs": [],
   "source": [
    "### Correlation "
   ]
  }
 ],
 "metadata": {
  "kernelspec": {
   "display_name": "Python 3",
   "language": "python",
   "name": "python3"
  },
  "language_info": {
   "codemirror_mode": {
    "name": "ipython",
    "version": 3
   },
   "file_extension": ".py",
   "mimetype": "text/x-python",
   "name": "python",
   "nbconvert_exporter": "python",
   "pygments_lexer": "ipython3",
   "version": "3.7.6"
  }
 },
 "nbformat": 4,
 "nbformat_minor": 4
}
