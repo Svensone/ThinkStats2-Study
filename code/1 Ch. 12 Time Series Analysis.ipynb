{
 "cells": [
  {
   "cell_type": "markdown",
   "metadata": {},
   "source": [
    "12. Time Series Analysis"
   ]
  },
  {
   "cell_type": "code",
   "execution_count": 8,
   "metadata": {},
   "outputs": [],
   "source": [
    "# set up\n",
    "from __future__ import print_function, division\n",
    "\n",
    "%matplotlib inline\n",
    "\n",
    "import warnings\n",
    "warnings.filterwarnings('ignore', category=FutureWarning)\n",
    "\n",
    "import numpy as np\n",
    "import pandas as pd\n",
    "\n",
    "import random\n",
    "\n",
    "import thinkstats2\n",
    "import thinkplot"
   ]
  },
  {
   "cell_type": "markdown",
   "metadata": {},
   "source": [
    "    1. Import & Cleaning"
   ]
  },
  {
   "cell_type": "code",
   "execution_count": 13,
   "metadata": {},
   "outputs": [
    {
     "data": {
      "text/html": [
       "<div>\n",
       "<style scoped>\n",
       "    .dataframe tbody tr th:only-of-type {\n",
       "        vertical-align: middle;\n",
       "    }\n",
       "\n",
       "    .dataframe tbody tr th {\n",
       "        vertical-align: top;\n",
       "    }\n",
       "\n",
       "    .dataframe thead th {\n",
       "        text-align: right;\n",
       "    }\n",
       "</style>\n",
       "<table border=\"1\" class=\"dataframe\">\n",
       "  <thead>\n",
       "    <tr style=\"text-align: right;\">\n",
       "      <th></th>\n",
       "      <th>city</th>\n",
       "      <th>state</th>\n",
       "      <th>price</th>\n",
       "      <th>amount</th>\n",
       "      <th>quality</th>\n",
       "      <th>date</th>\n",
       "      <th>ppg</th>\n",
       "      <th>state.name</th>\n",
       "      <th>lat</th>\n",
       "      <th>lon</th>\n",
       "    </tr>\n",
       "  </thead>\n",
       "  <tbody>\n",
       "    <tr>\n",
       "      <th>0</th>\n",
       "      <td>Annandale</td>\n",
       "      <td>VA</td>\n",
       "      <td>100</td>\n",
       "      <td>7.075</td>\n",
       "      <td>high</td>\n",
       "      <td>2010-09-02</td>\n",
       "      <td>14.13</td>\n",
       "      <td>Virginia</td>\n",
       "      <td>38.830345</td>\n",
       "      <td>-77.213870</td>\n",
       "    </tr>\n",
       "    <tr>\n",
       "      <th>1</th>\n",
       "      <td>Auburn</td>\n",
       "      <td>AL</td>\n",
       "      <td>60</td>\n",
       "      <td>28.300</td>\n",
       "      <td>high</td>\n",
       "      <td>2010-09-02</td>\n",
       "      <td>2.12</td>\n",
       "      <td>Alabama</td>\n",
       "      <td>32.578185</td>\n",
       "      <td>-85.472820</td>\n",
       "    </tr>\n",
       "    <tr>\n",
       "      <th>2</th>\n",
       "      <td>Austin</td>\n",
       "      <td>TX</td>\n",
       "      <td>60</td>\n",
       "      <td>28.300</td>\n",
       "      <td>medium</td>\n",
       "      <td>2010-09-02</td>\n",
       "      <td>2.12</td>\n",
       "      <td>Texas</td>\n",
       "      <td>30.326374</td>\n",
       "      <td>-97.771258</td>\n",
       "    </tr>\n",
       "    <tr>\n",
       "      <th>3</th>\n",
       "      <td>Belleville</td>\n",
       "      <td>IL</td>\n",
       "      <td>400</td>\n",
       "      <td>28.300</td>\n",
       "      <td>high</td>\n",
       "      <td>2010-09-02</td>\n",
       "      <td>14.13</td>\n",
       "      <td>Illinois</td>\n",
       "      <td>38.532311</td>\n",
       "      <td>-89.983521</td>\n",
       "    </tr>\n",
       "    <tr>\n",
       "      <th>4</th>\n",
       "      <td>Boone</td>\n",
       "      <td>NC</td>\n",
       "      <td>55</td>\n",
       "      <td>3.540</td>\n",
       "      <td>high</td>\n",
       "      <td>2010-09-02</td>\n",
       "      <td>15.54</td>\n",
       "      <td>North Carolina</td>\n",
       "      <td>36.217052</td>\n",
       "      <td>-81.687983</td>\n",
       "    </tr>\n",
       "  </tbody>\n",
       "</table>\n",
       "</div>"
      ],
      "text/plain": [
       "         city state  price  amount quality       date    ppg      state.name  \\\n",
       "0   Annandale    VA    100   7.075    high 2010-09-02  14.13        Virginia   \n",
       "1      Auburn    AL     60  28.300    high 2010-09-02   2.12         Alabama   \n",
       "2      Austin    TX     60  28.300  medium 2010-09-02   2.12           Texas   \n",
       "3  Belleville    IL    400  28.300    high 2010-09-02  14.13        Illinois   \n",
       "4       Boone    NC     55   3.540    high 2010-09-02  15.54  North Carolina   \n",
       "\n",
       "         lat        lon  \n",
       "0  38.830345 -77.213870  \n",
       "1  32.578185 -85.472820  \n",
       "2  30.326374 -97.771258  \n",
       "3  38.532311 -89.983521  \n",
       "4  36.217052 -81.687983  "
      ]
     },
     "execution_count": 13,
     "metadata": {},
     "output_type": "execute_result"
    }
   ],
   "source": [
    "transactions = pd.read_csv('mj-clean.csv', parse_dates=[5])\n",
    "transactions.head()"
   ]
  },
  {
   "cell_type": "code",
   "execution_count": 17,
   "metadata": {},
   "outputs": [
    {
     "data": {
      "text/html": [
       "<div>\n",
       "<style scoped>\n",
       "    .dataframe tbody tr th:only-of-type {\n",
       "        vertical-align: middle;\n",
       "    }\n",
       "\n",
       "    .dataframe tbody tr th {\n",
       "        vertical-align: top;\n",
       "    }\n",
       "\n",
       "    .dataframe thead th {\n",
       "        text-align: right;\n",
       "    }\n",
       "</style>\n",
       "<table border=\"1\" class=\"dataframe\">\n",
       "  <thead>\n",
       "    <tr style=\"text-align: right;\">\n",
       "      <th></th>\n",
       "      <th>ppg</th>\n",
       "      <th>date</th>\n",
       "      <th>years</th>\n",
       "    </tr>\n",
       "    <tr>\n",
       "      <th>date</th>\n",
       "      <th></th>\n",
       "      <th></th>\n",
       "      <th></th>\n",
       "    </tr>\n",
       "  </thead>\n",
       "  <tbody>\n",
       "    <tr>\n",
       "      <th>2010-09-02</th>\n",
       "      <td>11.727733</td>\n",
       "      <td>2010-09-02</td>\n",
       "      <td>0.000000</td>\n",
       "    </tr>\n",
       "    <tr>\n",
       "      <th>2010-09-03</th>\n",
       "      <td>11.972892</td>\n",
       "      <td>2010-09-03</td>\n",
       "      <td>0.002738</td>\n",
       "    </tr>\n",
       "    <tr>\n",
       "      <th>2010-09-04</th>\n",
       "      <td>13.752500</td>\n",
       "      <td>2010-09-04</td>\n",
       "      <td>0.005476</td>\n",
       "    </tr>\n",
       "    <tr>\n",
       "      <th>2010-09-05</th>\n",
       "      <td>15.113333</td>\n",
       "      <td>2010-09-05</td>\n",
       "      <td>0.008214</td>\n",
       "    </tr>\n",
       "    <tr>\n",
       "      <th>2010-09-06</th>\n",
       "      <td>15.537500</td>\n",
       "      <td>2010-09-06</td>\n",
       "      <td>0.010952</td>\n",
       "    </tr>\n",
       "  </tbody>\n",
       "</table>\n",
       "</div>"
      ],
      "text/plain": [
       "                  ppg       date     years\n",
       "date                                      \n",
       "2010-09-02  11.727733 2010-09-02  0.000000\n",
       "2010-09-03  11.972892 2010-09-03  0.002738\n",
       "2010-09-04  13.752500 2010-09-04  0.005476\n",
       "2010-09-05  15.113333 2010-09-05  0.008214\n",
       "2010-09-06  15.537500 2010-09-06  0.010952"
      ]
     },
     "execution_count": 17,
     "metadata": {},
     "output_type": "execute_result"
    }
   ],
   "source": [
    "def GroupByDay(transactions, func=np.mean):\n",
    "    \n",
    "    # groupby date and aggre. mean ppg of day\n",
    "    grouped = transactions[['date', 'ppg']].groupby('date')\n",
    "    daily = grouped.aggregate(func)\n",
    "    \n",
    "    # get date column\n",
    "    daily['date'] = daily.index\n",
    "    \n",
    "    #new column with years\n",
    "    \n",
    "    start = daily.date[0]\n",
    "    one_year = np.timedelta64(1, \"Y\")\n",
    "    \n",
    "    daily['years'] = (daily.date - start) / one_year\n",
    "    \n",
    "    return daily.head()\n",
    "\n",
    "GroupByDay(transactions)"
   ]
  },
  {
   "cell_type": "code",
   "execution_count": 22,
   "metadata": {},
   "outputs": [],
   "source": [
    "def GroupByQualityAndDay(transactions):\n",
    "    groups = transactions.groupby('quality')\n",
    "    dailies = {}\n",
    "    for name, group in groups:\n",
    "        dailies[name] = GroupByDay(group)\n",
    "    \n",
    "    return dailies\n",
    "\n",
    "dailies = GroupByQualityAndDay(transactions)"
   ]
  },
  {
   "cell_type": "code",
   "execution_count": null,
   "metadata": {},
   "outputs": [],
   "source": []
  },
  {
   "cell_type": "code",
   "execution_count": null,
   "metadata": {},
   "outputs": [],
   "source": []
  },
  {
   "cell_type": "markdown",
   "metadata": {},
   "source": [
    "    2. Plotting\n",
    "   "
   ]
  },
  {
   "cell_type": "markdown",
   "metadata": {},
   "source": [
    "    3. Linear Regression"
   ]
  },
  {
   "cell_type": "markdown",
   "metadata": {},
   "source": [
    "    4. Moving Averages"
   ]
  },
  {
   "cell_type": "markdown",
   "metadata": {},
   "source": []
  },
  {
   "cell_type": "markdown",
   "metadata": {},
   "source": [
    "    5. Missing Values"
   ]
  },
  {
   "cell_type": "markdown",
   "metadata": {},
   "source": [
    "    6. Serial Correlation"
   ]
  },
  {
   "cell_type": "markdown",
   "metadata": {},
   "source": [
    "    7. Autocorrelation"
   ]
  },
  {
   "cell_type": "markdown",
   "metadata": {},
   "source": [
    "    8. Prediction"
   ]
  },
  {
   "cell_type": "markdown",
   "metadata": {},
   "source": [
    "    9. Further Reading\n",
    "    \n",
    "- Data Analysis with Open Source Tools (O'Reilly)\n",
    "connects where this books ends, includes autoregression (important tool), in TS2 not included since not useful for this data"
   ]
  },
  {
   "cell_type": "markdown",
   "metadata": {},
   "source": [
    "    10. Exercise"
   ]
  },
  {
   "cell_type": "markdown",
   "metadata": {},
   "source": [
    "1 Exercise\n",
    "- remodel RunLinearModel() quadratic\n",
    "- make Predictions\n"
   ]
  },
  {
   "cell_type": "code",
   "execution_count": null,
   "metadata": {},
   "outputs": [],
   "source": [
    "# run Model with quadratic years\n",
    "\n",
    "def RunQuadraticModel(daily):\n",
    "    daily['years2'] = daily.years**2\n",
    "    model = smf.ols('ppg ~ years + years2', data=daily)\n",
    "    results = model.fit()\n",
    "    return model, results\n",
    "\n",
    "# choose high quality data for testing\n",
    "name = 'high'\n",
    "daily = dailies[name]\n",
    "\n",
    "model, results = RunQuadraticModel(daily)\n",
    "results.summary()"
   ]
  },
  {
   "cell_type": "code",
   "execution_count": null,
   "metadata": {},
   "outputs": [],
   "source": [
    "# Plot Fitted Values\n",
    "\n",
    "PlotFittedValues(model, results, label=name)\n",
    "thinkplot.Config(titel = 'Fitted values', \n",
    "                xlabels = 'Years',\n",
    "                xlim = [-0.1, 3.8],\n",
    "                ylabel = 'Price per gram')\n",
    "\n",
    "# Plot Predictions\n",
    "years = np.linspace(0, 5, 101)\n",
    "\n",
    "thinkplot.Scatter(daily.years, daily.ppg, alpha=0.1, label=name)\n",
    "PlotPredictions(daily, years, func=RunQuadraticModel)\n",
    "thinkplot.Config(title = 'predictions',\n",
    "                xlabel = 'Years',\n",
    "                xlim = [years[0]-0.1, years[-1]+0.1],\n",
    "                ylabel = \"price per gram in $\")"
   ]
  }
 ],
 "metadata": {
  "kernelspec": {
   "display_name": "Python 3",
   "language": "python",
   "name": "python3"
  },
  "language_info": {
   "codemirror_mode": {
    "name": "ipython",
    "version": 3
   },
   "file_extension": ".py",
   "mimetype": "text/x-python",
   "name": "python",
   "nbconvert_exporter": "python",
   "pygments_lexer": "ipython3",
   "version": "3.7.6"
  }
 },
 "nbformat": 4,
 "nbformat_minor": 4
}
